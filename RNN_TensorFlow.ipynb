{
 "cells": [
  {
   "cell_type": "markdown",
   "metadata": {},
   "source": [
    "<b> RNN with TensorFlow</b>\n",
    "<br/>\n",
    "This notebook contains the basic RNN implementation with TensorFlow."
   ]
  },
  {
   "cell_type": "markdown",
   "metadata": {},
   "source": [
    "<b> References </b>\n",
    "<br/>\n",
    "<ol>\n",
    "<li> https://r2rt.com/recurrent-neural-networks-in-tensorflow-i.html </li>\n",
    "<li> <a href=\"https://r2rt.com/written-memories-understanding-deriving-and-extending-the-lstm.html\"> Written Memories: Understanding, Deriving and Extending the LSTM, on this blog </a> </li>\n",
    "<li> <a href=\"http://www.wildml.com/2015/09/recurrent-neural-networks-tutorial-part-1-introduction-to-rnns/\">Recurrent Neural Networks Tutorial, by Denny Britz </a> </li>\n",
    "<li> <a href=\"http://karpathy.github.io/2015/05/21/rnn-effectiveness/\"> The Unreasonable Effectiveness of Recurrent Neural Networks, by Andrej Karpathy</a> </li>\n",
    "<li> <a href=\"http://colah.github.io/posts/2015-08-Understanding-LSTMs/\"> Understanding LSTM Networks, by Christopher Olah </a></li>\n",
    "\n",
    "</ol>"
   ]
  },
  {
   "cell_type": "code",
   "execution_count": null,
   "metadata": {
    "collapsed": true
   },
   "outputs": [],
   "source": []
  }
 ],
 "metadata": {
  "kernelspec": {
   "display_name": "Python 3",
   "language": "python",
   "name": "python3"
  },
  "language_info": {
   "codemirror_mode": {
    "name": "ipython",
    "version": 3
   },
   "file_extension": ".py",
   "mimetype": "text/x-python",
   "name": "python",
   "nbconvert_exporter": "python",
   "pygments_lexer": "ipython3",
   "version": "3.6.0"
  }
 },
 "nbformat": 4,
 "nbformat_minor": 2
}
